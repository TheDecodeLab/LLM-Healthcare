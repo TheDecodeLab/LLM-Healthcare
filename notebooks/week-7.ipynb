{
 "cells": [
  {
   "cell_type": "code",
   "execution_count": null,
   "id": "aa96ecc3-bcac-4f6a-a547-637f5c62c17a",
   "metadata": {},
   "outputs": [],
   "source": [
    "import torch\n",
    "from transformers import BertTokenizer, BertModel\n",
    "import matplotlib.pyplot as plt\n",
    "import seaborn as sns\n",
    "import numpy as np\n",
    "\n",
    "# Load pre-trained model tokenizer and model\n",
    "tokenizer = BertTokenizer.from_pretrained('bert-base-uncased')\n",
    "model = BertModel.from_pretrained('bert-base-uncased', output_attentions=True)\n",
    "\n",
    "# Example sentence\n",
    "sentence = \"The quick brown fox jumps over the lazy dog\"\n",
    "\n",
    "# Tokenize the sentence and get input IDs and attention mask\n",
    "inputs = tokenizer(sentence, return_tensors='pt')\n",
    "input_ids = inputs['input_ids']\n",
    "attention_mask = inputs['attention_mask']\n",
    "\n",
    "# Get the attention weights from the model\n",
    "with torch.no_grad():\n",
    "    outputs = model(input_ids, attention_mask=attention_mask)\n",
    "    attentions = outputs.attentions\n",
    "\n",
    "# Get the attention matrix for the first layer (for simplicity)\n",
    "attention_matrix = attentions.numpy()\n",
    "\n",
    "# Plot the attention matrix for each head in the first layer\n",
    "fig, axes = plt.subplots(1, 12, figsize=(30, 5))\n",
    "for i, ax in enumerate(axes):\n",
    "    sns.heatmap(attention_matrix[i], xticklabels=tokenizer.convert_ids_to_tokens(input_ids), \n",
    "                yticklabels=tokenizer.convert_ids_to_tokens(input_ids), cmap='viridis', ax=ax)\n",
    "    ax.set_title(f'Head {i+1}')\n",
    "plt.tight_layout()\n",
    "plt.show()\n"
   ]
  },
  {
   "cell_type": "code",
   "execution_count": null,
   "id": "04f43109-98fb-4195-89c7-e9f8e0f837e4",
   "metadata": {},
   "outputs": [],
   "source": []
  }
 ],
 "metadata": {
  "kernelspec": {
   "display_name": "hf",
   "language": "python",
   "name": "hf"
  },
  "language_info": {
   "codemirror_mode": {
    "name": "ipython",
    "version": 3
   },
   "file_extension": ".py",
   "mimetype": "text/x-python",
   "name": "python",
   "nbconvert_exporter": "python",
   "pygments_lexer": "ipython3",
   "version": "3.9.18"
  }
 },
 "nbformat": 4,
 "nbformat_minor": 5
}

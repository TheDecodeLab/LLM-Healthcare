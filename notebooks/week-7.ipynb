{
 "cells": [
  {
   "cell_type": "code",
   "execution_count": null,
   "id": "aa96ecc3-bcac-4f6a-a547-637f5c62c17a",
   "metadata": {},
   "outputs": [],
   "source": [
    "import torch\n",
    "from transformers import BertTokenizer, BertModel\n",
    "import matplotlib.pyplot as plt\n",
    "import seaborn as sns\n",
    "\n",
    "# Load pre-trained BERT model and tokenizer from HuggingFace\n",
    "tokenizer = BertTokenizer.from_pretrained('bert-base-uncased')\n",
    "model = BertModel.from_pretrained('bert-base-uncased', output_attentions=True)\n",
    "\n",
    "# Define a sentence\n",
    "sentence = \"The quick brown fox jumps over the lazy dog.\"\n",
    "\n",
    "# Tokenize the input sentence and convert to tensor\n",
    "inputs = tokenizer(sentence, return_tensors='pt')\n",
    "\n",
    "# Pass the inputs through BERT to get the attention weights\n",
    "outputs = model(**inputs)\n",
    "attention = outputs.attentions  # List of attention matrices from all layers\n",
    "\n",
    "# Let's take attention from the last layer (for simplicity, from the first head)\n",
    "attention_matrix = attention[-1][0][0].detach()\n",
    "\n",
    "# Decode the tokens to get the words\n",
    "tokens = tokenizer.convert_ids_to_tokens(inputs['input_ids'][0])\n",
    "\n",
    "# Visualization of the attention matrix\n",
    "plt.figure(figsize=(10, 8))\n",
    "sns.heatmap(attention_matrix.numpy(), annot=True, cmap='Blues', xticklabels=tokens, yticklabels=tokens)\n",
    "plt.title('Attention Matrix from BERT (Last Layer, Head 0)')\n",
    "plt.xlabel('Key Words')\n",
    "plt.ylabel('Query Words')\n",
    "plt.show()\n"
   ]
  },
  {
   "cell_type": "code",
   "execution_count": null,
   "id": "04f43109-98fb-4195-89c7-e9f8e0f837e4",
   "metadata": {},
   "outputs": [],
   "source": []
  }
 ],
 "metadata": {
  "kernelspec": {
   "display_name": "hf",
   "language": "python",
   "name": "hf"
  },
  "language_info": {
   "codemirror_mode": {
    "name": "ipython",
    "version": 3
   },
   "file_extension": ".py",
   "mimetype": "text/x-python",
   "name": "python",
   "nbconvert_exporter": "python",
   "pygments_lexer": "ipython3",
   "version": "3.9.18"
  }
 },
 "nbformat": 4,
 "nbformat_minor": 5
}

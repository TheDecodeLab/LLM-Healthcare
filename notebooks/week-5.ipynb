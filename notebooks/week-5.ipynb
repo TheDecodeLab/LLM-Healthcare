{
 "cells": [
  {
   "cell_type": "markdown",
   "id": "deac10d7-65d3-4d06-82df-b909e39929d1",
   "metadata": {},
   "source": [
    "# Introduction\n",
    "This notebook provides example calculations for Recurrent Neural Networks (RNN), Long Short-Term Memory (LSTM), and Gated Recurrent Unit (GRU) networks. These examples are designed for teaching purposes and include step-by-step explanations."
   ]
  },
  {
   "cell_type": "code",
   "execution_count": 4,
   "id": "ca1052f7-3854-4bfa-89d3-d1629cee9b42",
   "metadata": {},
   "outputs": [],
   "source": [
    "import numpy as np\n",
    "\n",
    "def sigmoid(x):\n",
    "    return 1 / (1 + np.exp(-x) )"
   ]
  },
  {
   "cell_type": "markdown",
   "id": "b65cdf80-f7a4-47c2-b621-e20296159459",
   "metadata": {},
   "source": [
    "# Recurrent Neural Network (RNN) Example\n"
   ]
  },
  {
   "cell_type": "code",
   "execution_count": 5,
   "id": "966a849a-952a-4212-a67a-3f07a78e80ee",
   "metadata": {},
   "outputs": [
    {
     "data": {
      "text/plain": [
       "(array([0.19737532, 0.60436778, 0.83365461, 0.93540907]),\n",
       " array([0.78752106, 0.98887785, 0.99947397, 0.99997525]),\n",
       " array([0.88013356, 0.99771501, 0.99995896, 0.99999926]),\n",
       " array([0.90287178, 0.99831338, 0.99997209, 0.99999954]))"
      ]
     },
     "execution_count": 5,
     "metadata": {},
     "output_type": "execute_result"
    }
   ],
   "source": [
    "\n",
    "\n",
    "# Define the input vectors\n",
    "P = np.array([1, 0, 0, 0])\n",
    "A = np.array([0, 1, 0, 0])\n",
    "R = np.array([0, 0, 1, 0])\n",
    "K = np.array([0, 0, 0, 1])\n",
    "\n",
    "# Define the weight matrices and bias vector\n",
    "W_x = np.array([\n",
    "    [0.1, 0.2, 0.3, 0.4],\n",
    "    [0.5, 0.6, 0.7, 0.8],\n",
    "    [0.9, 1.0, 1.1, 1.2],\n",
    "    [1.3, 1.4, 1.5, 1.6]\n",
    "])\n",
    "W_h = np.array([\n",
    "    [0.1, 0.2, 0.3, 0.4],\n",
    "    [0.5, 0.6, 0.7, 0.8],\n",
    "    [0.9, 1.0, 1.1, 1.2],\n",
    "    [1.3, 1.4, 1.5, 1.6]\n",
    "])\n",
    "b = np.array([0.1, 0.2, 0.3, 0.4])\n",
    "\n",
    "# Initial hidden state\n",
    "h_0 = np.zeros(4)\n",
    "\n",
    "# Function to calculate the hidden state\n",
    "def rnn_step(x, h_prev):\n",
    "    return np.tanh( np.dot(W_x, x) + np.dot(W_h, h_prev) + b )\n",
    "\n",
    "# Calculate the hidden states for each input\n",
    "h_1 = rnn_step(P, h_0)\n",
    "h_2 = rnn_step(A, h_1)\n",
    "h_3 = rnn_step(R, h_2)\n",
    "h_4 = rnn_step(K, h_3)\n",
    "\n",
    "h_1, h_2, h_3, h_4\n"
   ]
  },
  {
   "cell_type": "markdown",
   "id": "fba78aee-6294-45b6-8867-0cf359ad4189",
   "metadata": {},
   "source": [
    "# Long Short-Term Memory (LSTM) Example\n"
   ]
  },
  {
   "cell_type": "code",
   "execution_count": 6,
   "id": "bd486f7a-3795-418e-acd6-f12bfd83a56b",
   "metadata": {},
   "outputs": [
    {
     "data": {
      "text/plain": [
       "(array([0.41289546, 0.43230163, 0.19200078, 0.28364333]),\n",
       " array([0.73499519, 0.74403036, 0.49832367, 0.59905013]),\n",
       " array([0.81081682, 0.80071203, 0.77908564, 0.86504419]),\n",
       " array([0.85527892, 0.89398195, 0.88919778, 0.96078936]))"
      ]
     },
     "execution_count": 6,
     "metadata": {},
     "output_type": "execute_result"
    }
   ],
   "source": [
    "import numpy as np\n",
    "\n",
    "# Define the input vectors\n",
    "P = np.array([1, 0, 0, 0])\n",
    "A = np.array([0, 1, 0, 0])\n",
    "R = np.array([0, 0, 1, 0])\n",
    "K = np.array([0, 0, 0, 1])\n",
    "\n",
    "# Define the weight matrices and bias vectors\n",
    "W_f = np.random.rand(4, 4)\n",
    "W_i = np.random.rand(4, 4)\n",
    "W_c = np.random.rand(4, 4)\n",
    "W_o = np.random.rand(4, 4)\n",
    "U_f = np.random.rand(4, 4)\n",
    "U_i = np.random.rand(4, 4)\n",
    "U_c = np.random.rand(4, 4)\n",
    "U_o = np.random.rand(4, 4)\n",
    "b_f = np.random.rand(4)\n",
    "b_i = np.random.rand(4)\n",
    "b_c = np.random.rand(4)\n",
    "b_o = np.random.rand(4)\n",
    "\n",
    "# Initial hidden state and cell state\n",
    "h_0 = np.zeros(4)\n",
    "c_0 = np.zeros(4)\n",
    "\n",
    "# Function to calculate the LSTM cell\n",
    "def lstm_step(x, h_prev, c_prev):\n",
    "    f_t = sigmoid(np.dot(W_f, x) + np.dot(U_f, h_prev) + b_f)\n",
    "    i_t = sigmoid(np.dot(W_i, x) + np.dot(U_i, h_prev) + b_i)\n",
    "    c_tilde = np.tanh(np.dot(W_c, x) + np.dot(U_c, h_prev) + b_c)\n",
    "    c_t = f_t * c_prev + i_t * c_tilde\n",
    "    o_t = sigmoid(np.dot(W_o, x) + np.dot(U_o, h_prev) + b_o)\n",
    "    h_t = o_t * np.tanh(c_t)\n",
    "    return h_t, c_t\n",
    "\n",
    "# Calculate the hidden states and cell states for each input\n",
    "h_1, c_1 = lstm_step(P, h_0, c_0)\n",
    "h_2, c_2 = lstm_step(A, h_1, c_1)\n",
    "h_3, c_3 = lstm_step(R, h_2, c_2)\n",
    "h_4, c_4 = lstm_step(K, h_3, c_3)\n",
    "\n",
    "h_1, h_2, h_3, h_4\n"
   ]
  },
  {
   "cell_type": "markdown",
   "id": "acb833e4-3c4c-4bc8-bb3b-7a4f7cedd203",
   "metadata": {},
   "source": [
    "# Gated Recurrent Unit (GRU) Example\n"
   ]
  },
  {
   "cell_type": "code",
   "execution_count": 7,
   "id": "11aabdd8-acdf-474f-9b5d-606e8080c43c",
   "metadata": {},
   "outputs": [
    {
     "data": {
      "text/plain": [
       "(array([0.56523509, 0.40247428, 0.73458357, 0.42650638]),\n",
       " array([0.92475416, 0.92958679, 0.9590722 , 0.85704048]),\n",
       " array([0.9955618 , 0.98948952, 0.99585142, 0.98821207]),\n",
       " array([0.99843562, 0.99777125, 0.99903517, 0.99412206]))"
      ]
     },
     "execution_count": 7,
     "metadata": {},
     "output_type": "execute_result"
    }
   ],
   "source": [
    "import numpy as np\n",
    "\n",
    "# Define the input vectors\n",
    "P = np.array([1, 0, 0, 0])\n",
    "A = np.array([0, 1, 0, 0])\n",
    "R = np.array([0, 0, 1, 0])\n",
    "K = np.array([0, 0, 0, 1])\n",
    "\n",
    "# Define the weight matrices and bias vectors\n",
    "W_z = np.random.rand(4, 4)\n",
    "W_r = np.random.rand(4, 4)\n",
    "W_h = np.random.rand(4, 4)\n",
    "U_z = np.random.rand(4, 4)\n",
    "U_r = np.random.rand(4, 4)\n",
    "U_h = np.random.rand(4, 4)\n",
    "b_z = np.random.rand(4)\n",
    "b_r = np.random.rand(4)\n",
    "b_h = np.random.rand(4)\n",
    "\n",
    "# Initial hidden state\n",
    "h_0 = np.zeros(4)\n",
    "\n",
    "# Function to calculate the GRU cell\n",
    "def gru_step(x, h_prev):\n",
    "    z_t = sigmoid(np.dot(W_z, x) + np.dot(U_z, h_prev) + b_z)\n",
    "    r_t = sigmoid(np.dot(W_r, x) + np.dot(U_r, h_prev) + b_r)\n",
    "    h_tilde = np.tanh(np.dot(W_h, x) + np.dot(U_h, r_t * h_prev) + b_h)\n",
    "    h_t = (1 - z_t) * h_prev + z_t * h_tilde\n",
    "    return h_t\n",
    "\n",
    "# Calculate the hidden states for each input\n",
    "h_1 = gru_step(P, h_0)\n",
    "h_2 = gru_step(A, h_1)\n",
    "h_3 = gru_step(R, h_2)\n",
    "h_4 = gru_step(K, h_3)\n",
    "\n",
    "h_1, h_2, h_3, h_4\n"
   ]
  },
  {
   "cell_type": "code",
   "execution_count": null,
   "id": "ab835aec-9cd2-4fd3-8b4d-3c3dc9a4f261",
   "metadata": {},
   "outputs": [],
   "source": []
  },
  {
   "cell_type": "code",
   "execution_count": null,
   "id": "a2a23087-4e1e-4d69-ad4b-39838a05637c",
   "metadata": {},
   "outputs": [],
   "source": []
  },
  {
   "cell_type": "code",
   "execution_count": null,
   "id": "62be21fd-1421-4aab-b2b1-2f3d0c340417",
   "metadata": {},
   "outputs": [],
   "source": []
  },
  {
   "cell_type": "code",
   "execution_count": null,
   "id": "978aec14-0a16-4f00-badb-249500efe0f3",
   "metadata": {},
   "outputs": [],
   "source": []
  }
 ],
 "metadata": {
  "kernelspec": {
   "display_name": "tf",
   "language": "python",
   "name": "tf"
  },
  "language_info": {
   "codemirror_mode": {
    "name": "ipython",
    "version": 3
   },
   "file_extension": ".py",
   "mimetype": "text/x-python",
   "name": "python",
   "nbconvert_exporter": "python",
   "pygments_lexer": "ipython3",
   "version": "3.11.5"
  }
 },
 "nbformat": 4,
 "nbformat_minor": 5
}

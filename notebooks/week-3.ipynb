{
 "cells": [
  {
   "cell_type": "code",
   "execution_count": null,
   "id": "8c3c2b7a-8e16-4155-bced-b19d937a84cc",
   "metadata": {},
   "outputs": [],
   "source": [
    "!pip install datasets"
   ]
  },
  {
   "cell_type": "code",
   "execution_count": 1,
   "id": "b997387e-5b20-49ff-ba2f-58acf0dc60b3",
   "metadata": {},
   "outputs": [
    {
     "data": {
      "application/vnd.jupyter.widget-view+json": {
       "model_id": "52d1c725d4184136a3a7d9c7218ad480",
       "version_major": 2,
       "version_minor": 0
      },
      "text/plain": [
       "Downloading readme:   0%|          | 0.00/640 [00:00<?, ?B/s]"
      ]
     },
     "metadata": {},
     "output_type": "display_data"
    },
    {
     "data": {
      "application/vnd.jupyter.widget-view+json": {
       "model_id": "e9804d98b1f44e42b176d88f0130a23f",
       "version_major": 2,
       "version_minor": 0
      },
      "text/plain": [
       "Downloading data:   0%|          | 0.00/9.77M [00:00<?, ?B/s]"
      ]
     },
     "metadata": {},
     "output_type": "display_data"
    },
    {
     "data": {
      "application/vnd.jupyter.widget-view+json": {
       "model_id": "e6f44c84362745789b875ca6990e0094",
       "version_major": 2,
       "version_minor": 0
      },
      "text/plain": [
       "Downloading data:   0%|          | 0.00/1.22M [00:00<?, ?B/s]"
      ]
     },
     "metadata": {},
     "output_type": "display_data"
    },
    {
     "data": {
      "application/vnd.jupyter.widget-view+json": {
       "model_id": "f93bf79805704bd0bc946ae91869e6db",
       "version_major": 2,
       "version_minor": 0
      },
      "text/plain": [
       "Downloading data:   0%|          | 0.00/1.25M [00:00<?, ?B/s]"
      ]
     },
     "metadata": {},
     "output_type": "display_data"
    },
    {
     "data": {
      "application/vnd.jupyter.widget-view+json": {
       "model_id": "94ce3adb249f4d8f9f075bea59f43687",
       "version_major": 2,
       "version_minor": 0
      },
      "text/plain": [
       "Generating train split: 0 examples [00:00, ? examples/s]"
      ]
     },
     "metadata": {},
     "output_type": "display_data"
    },
    {
     "data": {
      "application/vnd.jupyter.widget-view+json": {
       "model_id": "302d3d406a9d4642a9ad33d9359b2c85",
       "version_major": 2,
       "version_minor": 0
      },
      "text/plain": [
       "Generating validation split: 0 examples [00:00, ? examples/s]"
      ]
     },
     "metadata": {},
     "output_type": "display_data"
    },
    {
     "data": {
      "application/vnd.jupyter.widget-view+json": {
       "model_id": "7e1492d984fd4ae999c18ccafb176e1d",
       "version_major": 2,
       "version_minor": 0
      },
      "text/plain": [
       "Generating test split: 0 examples [00:00, ? examples/s]"
      ]
     },
     "metadata": {},
     "output_type": "display_data"
    }
   ],
   "source": [
    "from datasets import load_dataset\n",
    "\n",
    "# Load the dataset\n",
    "dataset = load_dataset(\"GBaker/MedQA-USMLE-4-options-hf\")"
   ]
  },
  {
   "cell_type": "code",
   "execution_count": 3,
   "id": "ba5482ed-5270-49bc-98ae-7cf406bc32b8",
   "metadata": {},
   "outputs": [
    {
     "name": "stdout",
     "output_type": "stream",
     "text": [
      "DatasetDict({\n",
      "    train: Dataset({\n",
      "        features: ['id', 'sent1', 'sent2', 'ending0', 'ending1', 'ending2', 'ending3', 'label'],\n",
      "        num_rows: 10178\n",
      "    })\n",
      "    validation: Dataset({\n",
      "        features: ['id', 'sent1', 'sent2', 'ending0', 'ending1', 'ending2', 'ending3', 'label'],\n",
      "        num_rows: 1272\n",
      "    })\n",
      "    test: Dataset({\n",
      "        features: ['id', 'sent1', 'sent2', 'ending0', 'ending1', 'ending2', 'ending3', 'label'],\n",
      "        num_rows: 1273\n",
      "    })\n",
      "})\n"
     ]
    },
    {
     "data": {
      "text/html": [
       "<div>\n",
       "<style scoped>\n",
       "    .dataframe tbody tr th:only-of-type {\n",
       "        vertical-align: middle;\n",
       "    }\n",
       "\n",
       "    .dataframe tbody tr th {\n",
       "        vertical-align: top;\n",
       "    }\n",
       "\n",
       "    .dataframe thead th {\n",
       "        text-align: right;\n",
       "    }\n",
       "</style>\n",
       "<table border=\"1\" class=\"dataframe\">\n",
       "  <thead>\n",
       "    <tr style=\"text-align: right;\">\n",
       "      <th></th>\n",
       "      <th>id</th>\n",
       "      <th>sent1</th>\n",
       "      <th>sent2</th>\n",
       "      <th>ending0</th>\n",
       "      <th>ending1</th>\n",
       "      <th>ending2</th>\n",
       "      <th>ending3</th>\n",
       "      <th>label</th>\n",
       "    </tr>\n",
       "  </thead>\n",
       "  <tbody>\n",
       "    <tr>\n",
       "      <th>0</th>\n",
       "      <td>train-00000</td>\n",
       "      <td>A 23-year-old pregnant woman at 22 weeks gesta...</td>\n",
       "      <td></td>\n",
       "      <td>Ampicillin</td>\n",
       "      <td>Ceftriaxone</td>\n",
       "      <td>Doxycycline</td>\n",
       "      <td>Nitrofurantoin</td>\n",
       "      <td>3</td>\n",
       "    </tr>\n",
       "    <tr>\n",
       "      <th>1</th>\n",
       "      <td>train-00001</td>\n",
       "      <td>A 3-month-old baby died suddenly at night whil...</td>\n",
       "      <td></td>\n",
       "      <td>Placing the infant in a supine position on a f...</td>\n",
       "      <td>Keeping the infant covered and maintaining a h...</td>\n",
       "      <td>Application of a device to maintain the sleepi...</td>\n",
       "      <td>Avoiding pacifier use during sleep</td>\n",
       "      <td>0</td>\n",
       "    </tr>\n",
       "    <tr>\n",
       "      <th>2</th>\n",
       "      <td>train-00002</td>\n",
       "      <td>A mother brings her 3-week-old infant to the p...</td>\n",
       "      <td></td>\n",
       "      <td>Abnormal migration of ventral pancreatic bud</td>\n",
       "      <td>Complete failure of proximal duodenum to recan...</td>\n",
       "      <td>Abnormal hypertrophy of the pylorus</td>\n",
       "      <td>Failure of lateral body folds to move ventrall...</td>\n",
       "      <td>0</td>\n",
       "    </tr>\n",
       "  </tbody>\n",
       "</table>\n",
       "</div>"
      ],
      "text/plain": [
       "            id                                              sent1 sent2  \\\n",
       "0  train-00000  A 23-year-old pregnant woman at 22 weeks gesta...         \n",
       "1  train-00001  A 3-month-old baby died suddenly at night whil...         \n",
       "2  train-00002  A mother brings her 3-week-old infant to the p...         \n",
       "\n",
       "                                             ending0  \\\n",
       "0                                         Ampicillin   \n",
       "1  Placing the infant in a supine position on a f...   \n",
       "2       Abnormal migration of ventral pancreatic bud   \n",
       "\n",
       "                                             ending1  \\\n",
       "0                                        Ceftriaxone   \n",
       "1  Keeping the infant covered and maintaining a h...   \n",
       "2  Complete failure of proximal duodenum to recan...   \n",
       "\n",
       "                                             ending2  \\\n",
       "0                                        Doxycycline   \n",
       "1  Application of a device to maintain the sleepi...   \n",
       "2                Abnormal hypertrophy of the pylorus   \n",
       "\n",
       "                                             ending3  label  \n",
       "0                                     Nitrofurantoin      3  \n",
       "1                 Avoiding pacifier use during sleep      0  \n",
       "2  Failure of lateral body folds to move ventrall...      0  "
      ]
     },
     "execution_count": 3,
     "metadata": {},
     "output_type": "execute_result"
    }
   ],
   "source": [
    "# Print dataset info\n",
    "print(dataset)\n",
    "\n",
    "# Display the first few rows of the training set\n",
    "dataset['train'].to_pandas().head(3)"
   ]
  },
  {
   "cell_type": "code",
   "execution_count": 5,
   "id": "294692ba-1f43-4cee-9c36-31503e144918",
   "metadata": {},
   "outputs": [
    {
     "name": "stdout",
     "output_type": "stream",
     "text": [
      "Answer Distribution:\n",
      " label\n",
      "1    2654\n",
      "0    2584\n",
      "2    2557\n",
      "3    2383\n",
      "Name: count, dtype: int64\n",
      "Dataset Statistics:\n",
      "               label\n",
      "count  10178.000000\n",
      "mean       1.465612\n",
      "std        1.106781\n",
      "min        0.000000\n",
      "25%        0.000000\n",
      "50%        1.000000\n",
      "75%        2.000000\n",
      "max        3.000000\n"
     ]
    }
   ],
   "source": [
    "import pandas as pd\n",
    "\n",
    "# Convert the training set to a pandas DataFrame\n",
    "df = dataset['train'].to_pandas()\n",
    "\n",
    "# Check the distribution of the answer options\n",
    "answer_distribution = df['label'].value_counts()\n",
    "print(\"Answer Distribution:\\n\", answer_distribution)\n",
    "\n",
    "# Display some statistics about the dataset\n",
    "print(\"Dataset Statistics:\\n\", df.describe())\n"
   ]
  },
  {
   "cell_type": "code",
   "execution_count": null,
   "id": "011eb154-d86f-409e-a7e4-52a55b65b7cb",
   "metadata": {},
   "outputs": [],
   "source": []
  }
 ],
 "metadata": {
  "kernelspec": {
   "display_name": "hf",
   "language": "python",
   "name": "hf"
  },
  "language_info": {
   "codemirror_mode": {
    "name": "ipython",
    "version": 3
   },
   "file_extension": ".py",
   "mimetype": "text/x-python",
   "name": "python",
   "nbconvert_exporter": "python",
   "pygments_lexer": "ipython3",
   "version": "3.9.18"
  }
 },
 "nbformat": 4,
 "nbformat_minor": 5
}

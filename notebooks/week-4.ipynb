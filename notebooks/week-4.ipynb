{
 "cells": [
  {
   "cell_type": "code",
   "execution_count": null,
   "id": "8e7dcef6-3931-478d-9952-01b7623367e1",
   "metadata": {},
   "outputs": [],
   "source": [
    "!pip install datasets -q"
   ]
  },
  {
   "cell_type": "code",
   "execution_count": null,
   "id": "e09c56d1-f4cf-4f8f-96ae-71d480b2e1c0",
   "metadata": {},
   "outputs": [],
   "source": [
    "import json\n",
    "import pprint\n",
    "import seaborn as sns\n",
    "from collections import Counter\n",
    "import matplotlib.pyplot as plt\n",
    "from datasets import load_dataset\n",
    "\n",
    "import nltk\n",
    "from nltk import corpus\n",
    "from nltk.util import ngrams\n",
    "from nltk.tokenize import word_tokenize\n",
    "\n",
    "from wordcloud import WordCloud\n",
    "import matplotlib.pyplot as plt\n",
    "\n",
    "nltk.download('punkt_tab')\n",
    "nltk.download('stopwords')\n",
    "stop_words = corpus.stopwords.words('english')"
   ]
  },
  {
   "cell_type": "code",
   "execution_count": null,
   "id": "f4332274-3f2d-4093-bc47-552823d8253b",
   "metadata": {},
   "outputs": [],
   "source": [
    "dataset = load_dataset(\"qiaojin/PubMedQA\", \"pqa_artificial\")\n",
    "dataset"
   ]
  },
  {
   "cell_type": "code",
   "execution_count": null,
   "id": "1a2de933-1576-4793-a0c6-a46178bbdc41",
   "metadata": {
    "scrolled": true
   },
   "outputs": [],
   "source": [
    "dataset['train']"
   ]
  },
  {
   "cell_type": "markdown",
   "id": "d52d263c-58eb-46ec-ac75-567c0825e5aa",
   "metadata": {},
   "source": [
    "## Length of Contexts"
   ]
  },
  {
   "cell_type": "code",
   "execution_count": null,
   "id": "62025547-9e30-48f2-a7dc-696eda2ca9f3",
   "metadata": {},
   "outputs": [],
   "source": [
    "pubids = dataset['train']['pubid']\n",
    "pubids[0]"
   ]
  },
  {
   "cell_type": "code",
   "execution_count": null,
   "id": "806eeddf-a8c7-42ea-abfa-a9db7dfae9e7",
   "metadata": {},
   "outputs": [],
   "source": []
  },
  {
   "cell_type": "code",
   "execution_count": null,
   "id": "283f0ab1-2c7c-4a02-b8eb-471a9f3b90a8",
   "metadata": {},
   "outputs": [],
   "source": [
    "questions = dataset['train']['question']\n",
    "questions[0]"
   ]
  },
  {
   "cell_type": "code",
   "execution_count": null,
   "id": "3f7cd6a6-d2ba-45c1-87ff-fdd639d3852f",
   "metadata": {},
   "outputs": [],
   "source": []
  },
  {
   "cell_type": "code",
   "execution_count": null,
   "id": "de683255-2355-4e48-88a3-9560cf3c7cd7",
   "metadata": {},
   "outputs": [],
   "source": [
    "# Extract the 'context' column from the dataset\n",
    "contexts = dataset['train']['context']\n",
    "contexts[0]"
   ]
  },
  {
   "cell_type": "code",
   "execution_count": null,
   "id": "e41154b6-d60f-4f9c-9e99-bd393347b7ba",
   "metadata": {},
   "outputs": [],
   "source": [
    "print(json.dumps(contexts[0], indent=4))"
   ]
  },
  {
   "cell_type": "code",
   "execution_count": null,
   "id": "c23fa45f-59cd-486c-8d19-92e52d7e8a0d",
   "metadata": {},
   "outputs": [],
   "source": [
    "## context.keys()"
   ]
  },
  {
   "cell_type": "code",
   "execution_count": null,
   "id": "92089abf-d2ff-436d-9af4-7c83e0b8789d",
   "metadata": {},
   "outputs": [],
   "source": [
    "len(context['contexts']),len(context['labels']),len(context['meshes'])"
   ]
  },
  {
   "cell_type": "code",
   "execution_count": null,
   "id": "e1d29503-d0f1-4f40-aec4-744b38f9cf66",
   "metadata": {},
   "outputs": [],
   "source": [
    "long_answers = dataset['train']['long_answer']\n",
    "long_answers[0]"
   ]
  },
  {
   "cell_type": "code",
   "execution_count": null,
   "id": "1666012b-a042-450a-8089-18a120d0c98c",
   "metadata": {},
   "outputs": [],
   "source": []
  },
  {
   "cell_type": "code",
   "execution_count": null,
   "id": "d42b57f8-a5d0-4e70-98e0-1b55447d78f7",
   "metadata": {},
   "outputs": [],
   "source": []
  },
  {
   "cell_type": "code",
   "execution_count": null,
   "id": "e0b551df-6094-4053-9b02-9ef48297311c",
   "metadata": {},
   "outputs": [],
   "source": [
    "final_decisions = dataset['train']['final_decision']\n",
    "final_decisions[0]"
   ]
  },
  {
   "cell_type": "markdown",
   "id": "acd62f1a-3dfe-4ca4-89a9-723618d24415",
   "metadata": {},
   "source": [
    "## Word Frequency"
   ]
  },
  {
   "cell_type": "code",
   "execution_count": null,
   "id": "1c7bf1da-51d9-4663-8174-86d0fdc708b2",
   "metadata": {},
   "outputs": [],
   "source": [
    "# Function to calculate word frequency\n",
    "def word_frequency(texts):\n",
    "    words = ' '.join(texts).split()\n",
    "    return Counter(words)\n",
    "\n",
    "# Calculate word frequency for 'context' and 'question'\n",
    "question_word_freq = word_frequency(questions)\n"
   ]
  },
  {
   "cell_type": "code",
   "execution_count": null,
   "id": "0854359f-e3ef-44c4-b81f-9239fa80b034",
   "metadata": {},
   "outputs": [],
   "source": [
    "# Plot the top 20 most common words in 'question'\n",
    "question_common_words = question_word_freq.most_common(20)\n",
    "question_words, question_counts = zip(*question_common_words)\n",
    "\n",
    "plt.figure(figsize=(12, 6))\n",
    "sns.barplot(x=list(question_words), y=list(question_counts))\n",
    "plt.title('Top 20 Most Common Words in Questions')\n",
    "plt.xlabel('Words')\n",
    "plt.ylabel('Frequency')\n",
    "plt.xticks(rotation=45)\n",
    ";"
   ]
  },
  {
   "cell_type": "code",
   "execution_count": null,
   "id": "bc1d7d84-3ac5-41b3-ac56-adfdf76bbb7a",
   "metadata": {},
   "outputs": [],
   "source": [
    "# Define WordCloud parameters: width, height, and background color\n",
    "wordcloud = WordCloud(width=800, height=400, background_color='white')\n",
    "\n",
    "# Generate the word cloud based on word frequencies\n",
    "wordcloud.generate_from_frequencies(word_freq)\n",
    "\n",
    "# Display the word cloud using matplotlib\n",
    "plt.figure(figsize=(10, 5))\n",
    "plt.imshow(wordcloud, interpolation='bilinear')\n",
    "plt.axis('off')"
   ]
  },
  {
   "cell_type": "markdown",
   "id": "b41f45e1-aa25-4b37-99f5-276c2d383b11",
   "metadata": {},
   "source": [
    "## N-grams"
   ]
  },
  {
   "cell_type": "code",
   "execution_count": null,
   "id": "3d16ad99-2d30-417b-ada2-fca5f4e42755",
   "metadata": {},
   "outputs": [],
   "source": [
    "text = \"I love teaching NLP. N-grams are very useful in text analysis.\"\n",
    "tokens = nltk.word_tokenize(text)\n",
    "print(tokens)"
   ]
  },
  {
   "cell_type": "code",
   "execution_count": null,
   "id": "50f10a5d-d33d-406d-86b4-b825fd88dd68",
   "metadata": {},
   "outputs": [],
   "source": [
    "[i for i in ngrams(tokens, 2)]"
   ]
  },
  {
   "cell_type": "code",
   "execution_count": null,
   "id": "7255cbad-fd12-4259-881d-22829a80aaf5",
   "metadata": {},
   "outputs": [],
   "source": [
    "data = ['apple', 'banana', 'apple', 'orange', 'banana', 'apple']\n",
    "counter = Counter(data)\n",
    "print(counter)"
   ]
  },
  {
   "cell_type": "code",
   "execution_count": null,
   "id": "37c4f4c9-1a8e-4108-a263-3be55e47dcd4",
   "metadata": {},
   "outputs": [],
   "source": [
    "# Function to calculate n-grams frequency\n",
    "def ngrams_frequency(texts, n):\n",
    "    ngrams_list = []\n",
    "    for text in texts:\n",
    "        tokens = word_tokenize(text)\n",
    "        ngrams_list.extend(ngrams(tokens, n))\n",
    "    return Counter(ngrams_list)\n",
    "\n",
    "# Calculate bigrams and trigrams frequency for 'question'\n",
    "bigrams_freq = ngrams_frequency(questions, 2)\n",
    "\n",
    "# Plot the top 20 most common bigrams in 'question'\n",
    "bigrams_common = bigrams_freq.most_common(20)\n",
    "bigrams, bigrams_counts = zip(*bigrams_common)\n",
    "bigrams = [' '.join(bigram) for bigram in bigrams]\n",
    "\n",
    "plt.figure(figsize=(12, 6))\n",
    "sns.barplot(x=list(bigrams), y=list(bigrams_counts))\n",
    "plt.title('Top 20 Most Common Bigrams in Questions')\n",
    "plt.xlabel('Bigrams')\n",
    "plt.ylabel('Frequency')\n",
    "plt.xticks(rotation=45)"
   ]
  },
  {
   "cell_type": "code",
   "execution_count": null,
   "id": "0cef6836-c223-45ee-a4a8-ab6ce1a9c9e6",
   "metadata": {},
   "outputs": [],
   "source": [
    "trigrams_freq = ngrams_frequency(questions, 3)\n",
    "\n",
    "# Plot the top 20 most common trigrams in 'question'\n",
    "trigrams_common = trigrams_freq.most_common(20)\n",
    "trigrams, trigrams_counts = zip(*trigrams_common)\n",
    "trigrams = [' '.join(trigram) for trigram in trigrams]\n",
    "\n",
    "plt.figure(figsize=(12, 6))\n",
    "sns.barplot(x=list(trigrams), y=list(trigrams_counts))\n",
    "plt.title('Top 20 Most Common Trigrams in Questions')\n",
    "plt.xlabel('Trigrams')\n",
    "plt.ylabel('Frequency')\n",
    "plt.xticks(rotation=45)"
   ]
  },
  {
   "cell_type": "markdown",
   "id": "6a821b10-a929-4fa4-89cb-3c2c5a8ce1db",
   "metadata": {},
   "source": [
    "## Next word prediction"
   ]
  },
  {
   "cell_type": "code",
   "execution_count": null,
   "id": "10dbd6be-3817-48e4-9cf4-ec7a497a67fb",
   "metadata": {},
   "outputs": [],
   "source": [
    "from collections import defaultdict, Counter\n",
    "import random"
   ]
  },
  {
   "cell_type": "code",
   "execution_count": null,
   "id": "6bc63c54-68cf-482a-8263-90904f7e748d",
   "metadata": {},
   "outputs": [],
   "source": [
    "# Function to build a basic word-based model\n",
    "def build_word_model(texts):\n",
    "    # Initialize a defaultdict where each value is a Counter\n",
    "    model = defaultdict(Counter)\n",
    "    for text in texts:\n",
    "        # Split the text into words\n",
    "        words = text.split()\n",
    "        # Iterate through the words, except the last one\n",
    "        for i in range(len(words) - 1):\n",
    "            # Increment the count of the next word in the Counter of the current word\n",
    "            model[words[i]][words[i + 1]] += 1\n",
    "    return model"
   ]
  },
  {
   "cell_type": "code",
   "execution_count": null,
   "id": "f653382d-82f0-4795-870b-39aef57a5f7b",
   "metadata": {},
   "outputs": [],
   "source": [
    "texts = [\"hello world\", \"hello there\", \"world of code\", \"hello world of code\"]\n",
    "model = build_word_model(texts)\n",
    "model"
   ]
  },
  {
   "cell_type": "code",
   "execution_count": null,
   "id": "bd22c836-f8f4-420d-b6fe-49443cf51f00",
   "metadata": {},
   "outputs": [],
   "source": [
    "# Function to predict the next word based on the current word\n",
    "def predict_next_word(current_word, model):\n",
    "    # Check if the current word is in the model\n",
    "    if current_word in model:\n",
    "        # Get the Counter of next words\n",
    "        next_words = model[current_word]\n",
    "        # Calculate the total count of all next words\n",
    "        total_count = sum(next_words.values())\n",
    "        # Generate a random number between 1 and total_count\n",
    "        rand_val = random.randint(1, total_count)\n",
    "        cumulative_count = 0\n",
    "        # Iterate through the next words and their counts\n",
    "        for word, count in next_words.items():\n",
    "            # Add the count to the cumulative count\n",
    "            cumulative_count += count\n",
    "            # If the cumulative count is greater than or equal to the random value, return the word\n",
    "            if cumulative_count >= rand_val:\n",
    "                return word\n",
    "    # If the current word is not in the model, return None\n",
    "    return None"
   ]
  },
  {
   "cell_type": "code",
   "execution_count": null,
   "id": "65715ff3-9d83-45dd-a73e-2244fd0ccaac",
   "metadata": {},
   "outputs": [],
   "source": [
    "# Example usage of the predict_next_word function\n",
    "next_word = predict_next_word(\"hello\", model)\n",
    "print(next_word)  # Output could be \"world\" or \"there\""
   ]
  },
  {
   "cell_type": "code",
   "execution_count": null,
   "id": "b12efaf4-6caf-46f4-8db9-5b3d2c05b235",
   "metadata": {},
   "outputs": [],
   "source": [
    "# Function to generate a sequence of words\n",
    "def generate_sequence(start_word, model, length):\n",
    "    # Initialize the sequence with the starting word\n",
    "    sequence = [start_word]\n",
    "    # Set the current word to the starting word\n",
    "    current_word = start_word\n",
    "    \n",
    "    # Loop to generate the sequence up to the desired length\n",
    "    for _ in range(length - 1):\n",
    "        # Predict the next word based on the current word\n",
    "        next_word = predict_next_word(current_word, model)\n",
    "        if next_word:\n",
    "            # If a next word is found, add it to the sequence\n",
    "            sequence.append(next_word)\n",
    "            # Update the current word to the next word\n",
    "            current_word = next_word\n",
    "        else:\n",
    "            # If no next word is found, stop the loop\n",
    "            break\n",
    "    \n",
    "    # Join the list of words into a single string with spaces and return it\n",
    "    return ' '.join(sequence)"
   ]
  },
  {
   "cell_type": "code",
   "execution_count": null,
   "id": "06cd6b85-183f-43e8-af5f-790503dad6ca",
   "metadata": {},
   "outputs": [],
   "source": [
    "# Example usage of the generate_sequence function\n",
    "start_word = \"hello\"\n",
    "sequence_length = 10\n",
    "generated_sequence = generate_sequence(start_word, model, sequence_length)\n",
    "print(generated_sequence)"
   ]
  },
  {
   "cell_type": "code",
   "execution_count": null,
   "id": "84419527-fde0-48bb-9765-7a75557044c2",
   "metadata": {},
   "outputs": [],
   "source": [
    "word_model = build_word_model(questions)"
   ]
  },
  {
   "cell_type": "code",
   "execution_count": null,
   "id": "ede912a5-bd84-44ac-a7cf-0e1d40a3e0e2",
   "metadata": {
    "scrolled": true
   },
   "outputs": [],
   "source": [
    "word_model"
   ]
  },
  {
   "cell_type": "code",
   "execution_count": null,
   "id": "f6763cee-548c-4e84-bd0f-3140593488ef",
   "metadata": {},
   "outputs": [],
   "source": [
    "# Example usage: Predict the next word for a given word in a question\n",
    "current_word = \"What\"\n",
    "next_word = predict_next_word(current_word, word_model)\n",
    "print(f\"The predicted next word for '{current_word}' is '{next_word}'.\")"
   ]
  },
  {
   "cell_type": "code",
   "execution_count": null,
   "id": "d6ee01a9-f72c-4a48-81db-828f78b3adaf",
   "metadata": {},
   "outputs": [],
   "source": []
  }
 ],
 "metadata": {
  "kernelspec": {
   "display_name": "hf",
   "language": "python",
   "name": "hf"
  },
  "language_info": {
   "codemirror_mode": {
    "name": "ipython",
    "version": 3
   },
   "file_extension": ".py",
   "mimetype": "text/x-python",
   "name": "python",
   "nbconvert_exporter": "python",
   "pygments_lexer": "ipython3",
   "version": "3.9.18"
  }
 },
 "nbformat": 4,
 "nbformat_minor": 5
}

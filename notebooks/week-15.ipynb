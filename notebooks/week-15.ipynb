{
 "cells": [
  {
   "cell_type": "markdown",
   "id": "c78e372b-2b62-461e-a73d-9255bbc351b2",
   "metadata": {},
   "source": [
    "# Example"
   ]
  },
  {
   "cell_type": "code",
   "execution_count": 16,
   "id": "2929db5a-d7f9-4a7c-ae84-5911884209dc",
   "metadata": {},
   "outputs": [],
   "source": [
    "import requests\n",
    "import json\n",
    "\n",
    "def ask(question, model):\n",
    "    url = \"http://localhost:11434/api/generate\"\n",
    "    payload = {\n",
    "        \"model\": model,\n",
    "        \"prompt\": question,\n",
    "        \"stream\": False\n",
    "    }\n",
    "    headers = {\n",
    "        \"Content-Type\": \"application/json\"\n",
    "    }\n",
    "    \n",
    "    response = requests.post(url, data=json.dumps(payload), headers=headers)\n",
    "    \n",
    "    if response.status_code == 200:\n",
    "        # print(\"Response:\", response.json()['response'])\n",
    "        return response.json()['response']\n",
    "    else:\n",
    "        # print(\"Failed to get a response. Status code:\", response.status_code)\n",
    "        return None"
   ]
  },
  {
   "cell_type": "code",
   "execution_count": 18,
   "id": "25105842-6752-4732-9f6a-148bd77f9d2e",
   "metadata": {},
   "outputs": [
    {
     "data": {
      "text/plain": [
       "\"The sky appears blue because of a phenomenon called scattering, which occurs when sunlight interacts with tiny molecules of gases in the Earth's atmosphere.\\n\\nHere's what happens:\\n\\n1. Sunlight enters the Earth's atmosphere and consists of a spectrum of colors, including all the colors of the visible light.\\n2. When sunlight hits a molecule of nitrogen (N2) or oxygen (O2) in the atmosphere, it scatters in all directions. This scattering effect is more pronounced for shorter wavelengths (like blue and violet).\\n3. The scattered blue light is then dispersed throughout the atmosphere, reaching our eyes from all parts of the sky.\\n4. Our eyes perceive this scattered blue light as the color of the sky.\\n\\nWhy doesn't the sky appear violet? Violet light has a shorter wavelength than blue light, but it scatters less in the atmosphere. This is because violet light is scattered more by the smaller molecules of gases like nitrogen and oxygen. As a result, our eyes are more sensitive to blue light, which is why the sky appears blue to us.\\n\\nIt's worth noting that during sunrise and sunset, the sky can appear red or orange due to a different phenomenon called Rayleigh scattering. When sunlight passes through the atmosphere at a shallow angle, it encounters more of the shorter wavelengths (like blue and violet) and scatters them in all directions. This is why we see the warm colors of sunrise and sunset.\\n\\nSo, to summarize: the sky appears blue because of the scattering of sunlight by tiny molecules in the Earth's atmosphere, which preferentially scatters shorter wavelengths like blue light.\""
      ]
     },
     "execution_count": 18,
     "metadata": {},
     "output_type": "execute_result"
    }
   ],
   "source": [
    "model = \"llama3.2\"\n",
    "question = \"Why is the sky blue?\"\n",
    "ask(question, model)"
   ]
  },
  {
   "cell_type": "code",
   "execution_count": 19,
   "id": "251b5ffb-69c0-405c-8193-b10d56d9d93f",
   "metadata": {},
   "outputs": [],
   "source": [
    "questions = [\n",
    "    \"What is your name?\",\n",
    "    \"How old are you?\",\n",
    "    \"Where do you live?\",\n",
    "    \"What is your favorite color?\",\n",
    "    \"Do you have any pets?\"\n",
    "]\n",
    "answers = []\n",
    "for question in questions:\n",
    "    answer = ask(question, model)\n",
    "    answers.append(answer)"
   ]
  },
  {
   "cell_type": "code",
   "execution_count": 20,
   "id": "377fa81a-99be-4d2f-8da2-0de3da350e5b",
   "metadata": {},
   "outputs": [
    {
     "data": {
      "text/plain": [
       "['I don\\'t have a personal name. I\\'m an AI designed to assist and communicate with users, and I\\'m often referred to as a \"language model\" or a \"chatbot.\" My purpose is to provide helpful and informative responses to your questions and engage in conversation to the best of my abilities. Is there something specific I can help you with?',\n",
       " 'I was released to the public in 2023.',\n",
       " 'I don\\'t have a physical body, so I don\\'t \"live\" in the classical sense. I exist as a computer program designed to provide information and answer questions to the best of my ability. My \"home\" is a server located in a data center, where I can be accessed by users like you through the internet.',\n",
       " \"I don't have personal preferences, including favorite colors. I'm a large language model, my purpose is to provide information and assist with tasks, but I don't have subjective experiences or emotions like humans do. However, I can tell you about the different meanings of various colors, color theory, or help you explore your own favorite colors if you'd like!\",\n",
       " \"No, I don't have pets. I am a computer program designed to simulate conversations and answer questions, but I don't have personal experiences or physical existence. I exist solely as a digital entity, so I'm not capable of having pets or owning physical objects. However, I can provide information and answer questions about pets if you're interested!\"]"
      ]
     },
     "execution_count": 20,
     "metadata": {},
     "output_type": "execute_result"
    }
   ],
   "source": [
    "answers"
   ]
  },
  {
   "cell_type": "code",
   "execution_count": 22,
   "id": "83266fa3-c259-472c-bfb3-b28702e3d576",
   "metadata": {},
   "outputs": [],
   "source": [
    "sentences = [\n",
    "    \"The doctor prescribed amoxicillin for the bacterial infection.\",\n",
    "    \"She takes ibuprofen to relieve her headache.\",\n",
    "    \"Metformin is commonly used to manage type 2 diabetes.\",\n",
    "    \"The patient was given morphine for severe pain relief.\",\n",
    "    \"Lisinopril is often prescribed to treat high blood pressure.\"\n",
    "]\n",
    "\n",
    "answers = []\n",
    "for question_ in sentences:\n",
    "    question = f'given this sentence: {question_}, only print the name of the drug mentioned in the given sentence.'\n",
    "    answer = ask(question, model)\n",
    "    answers.append(answer)"
   ]
  },
  {
   "cell_type": "code",
   "execution_count": 23,
   "id": "9f2c7e5d-12f1-405f-a070-7d19c16ac7bf",
   "metadata": {},
   "outputs": [
    {
     "data": {
      "text/plain": [
       "['amoxicillin', 'Ibuprofen', 'Metformin', 'Morphine', 'Lisinopril']"
      ]
     },
     "execution_count": 23,
     "metadata": {},
     "output_type": "execute_result"
    }
   ],
   "source": [
    "answers"
   ]
  },
  {
   "cell_type": "code",
   "execution_count": 4,
   "id": "de3c84c3-34f0-4faf-a1a9-702c5117d10c",
   "metadata": {},
   "outputs": [],
   "source": [
    "# !unrar x Image\\ for\\ LLM\\ Class.rar"
   ]
  },
  {
   "cell_type": "code",
   "execution_count": 25,
   "id": "0fcb0b4e-6f84-47fd-bafa-4b11614b865c",
   "metadata": {},
   "outputs": [],
   "source": [
    "import requests\n",
    "import base64\n",
    "\n",
    "# Function to read and encode the image file\n",
    "def encode_image(image_path):\n",
    "    with open(image_path, \"rb\") as image_file:\n",
    "        encoded_string = base64.b64encode(image_file.read()).decode('utf-8')\n",
    "    return encoded_string\n",
    "\n",
    "def ask_from_an_image(image_path,question):\n",
    "    # Encode the image\n",
    "    image_data = encode_image(image_path)\n",
    "    \n",
    "    # URL of the API\n",
    "    url = \"http://localhost:11434/api/chat\"\n",
    "    \n",
    "    # Payload for the POST request\n",
    "    payload = {\n",
    "        \"model\": \"llama3.2-vision\",\n",
    "        \"messages\": [\n",
    "            {\n",
    "                \"role\": \"user\",\n",
    "                \"content\": question,\n",
    "                \"images\": [image_data]\n",
    "            }\n",
    "        ],\n",
    "        \"stream\": False\n",
    "    }\n",
    "    \n",
    "    # Headers for the POST request\n",
    "    headers = {\n",
    "        \"Content-Type\": \"application/json\"\n",
    "    }\n",
    "    \n",
    "    # Make the POST request\n",
    "    response = requests.post(url, json=payload, headers=headers)\n",
    "    \n",
    "    # Print the response\n",
    "    return response.json()['message']['content']"
   ]
  },
  {
   "cell_type": "code",
   "execution_count": 31,
   "id": "57e0d1eb-8fd9-4d09-a747-a25ba5e1811f",
   "metadata": {},
   "outputs": [
    {
     "data": {
      "text/plain": [
       "'**Step 1: Analyze the Image**\\n\\nThe provided image appears to be an X-ray of the chest, which typically shows the lungs and surrounding structures.\\n\\n**Step 2: Identify Key Features**\\n\\nUpon closer inspection:\\n\\n*   The heart is enlarged.\\n*   There is evidence of fluid accumulation in the pleural space (pulmonary edema).\\n*   Lung fields are not visible due to the presence of air and fluid obscuring them.\\n\\n**Step 3: Consider Possible Causes**\\n\\nGiven these findings, possible causes include:\\n\\n*   Congestive heart failure\\n*   Pulmonary embolism\\n\\n**Step 4: Provide a Diagnosis**\\n\\nBased on the provided information, it is not possible to determine an exact diagnosis without additional context or diagnostic testing results. However, based solely on the X-ray findings described:\\n\\n**Answer:** I27.9'"
      ]
     },
     "execution_count": 31,
     "metadata": {},
     "output_type": "execute_result"
    }
   ],
   "source": [
    "\n",
    "# Path to the image file in the current directory\n",
    "image_path = \"ImageforLLMClass/Cardiology/RONTGEN/THORAX PA DX.CHEST.Se1.Img2.jpg\"  # Replace with your actual image file name\n",
    "question = \"\"\"\n",
    "Assume you are a physician. \n",
    "What is the diagnosis of this image, just print the ICD-10 code for it.\n",
    "\"\"\"\n",
    "\n",
    "ask_from_an_image(image_path,question)"
   ]
  },
  {
   "cell_type": "code",
   "execution_count": 49,
   "id": "cce2e588-506b-411d-887f-3c08a75ed72f",
   "metadata": {},
   "outputs": [
    {
     "name": "stdout",
     "output_type": "stream",
     "text": [
      "ImageforLLMClass/Pediatrics/RONTGEN/Unspecified CR CHEST.Se1001.Img1001.jpg\n",
      "ICD 9: \n",
      "87.44   Routine chest x-ray, so described\n",
      "\n",
      "ICD 10: \n",
      "A16.2   Tb lung without mention of bact or histological confirm\n",
      "\n",
      "MODEL ANSWER: **Pneumonia**\n",
      "\n",
      "The X-ray shows an abnormal opacity in the left lower lobe of the lung, indicating inflammation and consolidation of lung tissue due to infection or other causes. The presence of air bronchograms suggests that the affected area is filled with fluid or pus. These findings are consistent with a diagnosis of pneumonia.\n",
      "==================================================\n",
      "ImageforLLMClass/Pediatrics/CT/Brain Routine(Child) CT.Brain 1,00 Hr40 S3.Se2.Img1-2.jpg\n",
      "ICD 9: \n",
      "\n",
      "\n",
      "ICD 10: \n",
      "Z09.8   Follow-up exam after other treatment for other conditions\n",
      "P22.1   Transient tachypnoea of newborn\n",
      "Q03.9   Congenital hydrocephalus, unspecified\n",
      "\n",
      "MODEL ANSWER: Cystic hygroma.\n",
      "==================================================\n",
      "ImageforLLMClass/Cardiology/RONTGEN/THORAX PA DX.CHEST.Se1.Img2.jpg\n",
      "ICD 9: \n",
      "\n",
      "\n",
      "ICD 10: \n",
      "Z09.8   Follow-up exam after other treatment for other conditions\n",
      "I48   Atrial fibrillation and flutter\n",
      "MODEL ANSWER: **Hemothorax with Bilateral Pneumothoraces**\n",
      "==================================================\n",
      "ImageforLLMClass/ENT/RONTGEN/Unspecified CR CHEST.Se1001.Img1001.jpg\n",
      "ICD 9: \n",
      "93.57\tApplication of other wound dressing\n",
      "97.89\tRemoval of other therapeutic device\n",
      "\n",
      "ICD 10: \n",
      "Z98.8   Other specified postsurgical states\n",
      "S02.7   Multiple fractures involving skull and facial bones\n",
      "J31.0   Chronic rhinitis\n",
      "\n",
      "MODEL ANSWER: **Pneumonia**\n",
      "==================================================\n",
      "ImageforLLMClass/ENT/CT/Brain Contrast ( Fix Delay  CT.Vena Phase 1,00 Hr40 S3.Se6.Img1.jpg\n",
      "ICD 9: \n",
      "87.03\tComputerized axial tomography of head\n",
      "\n",
      "ICD 10: \n",
      "Z03.8   Observation for other suspected diseases and conditions\n",
      "\n",
      "MODEL ANSWER: Cervical Spine Fracture.\n",
      "==================================================\n",
      "ImageforLLMClass/Surgeon/CT/Unspecified Merge Only CT.Arterial Phase 1,00 Br40 S3.Se6.Img1.jpg\n",
      "ICD 9: \n",
      "88.01   Computerized axial tomography of abdomen\n",
      "\n",
      "ICD 10: \n",
      "Z09.8   Follow-up exam after other treatment for other conditions\n",
      "S39.9   Unspecified injury of abdomen, lower back and pelvis\n",
      "\n",
      "MODEL ANSWER: Mediastinal lipoma.\n",
      "==================================================\n",
      "ImageforLLMClass/Surgeon/BNO/ABDOMEN DX.ABDOMEN AP(SUPINE).Se1.Img1.jpg\n",
      "ICD 9: \n",
      "88.19   Other x-ray of abdomen\n",
      "\n",
      "ICD 10: \n",
      "T18.9   Foreign body in alimentary tract, part unspecified\n",
      "\n",
      "MODEL ANSWER: **Calculi in both kidneys and right kidney pelvis**\n",
      "==================================================\n",
      "ImageforLLMClass/Urologi/CT/Abdomen Routine(Adult) CT.MPR 0,6mm.Se1008.Img0.jpg\n",
      "ICD 9: \n",
      "88.38\tOther computerized axial tomography\n",
      "\n",
      "ICD 10: \n",
      "Z09.8   Follow-up exam after other treatment for other conditions\n",
      "N20.0   Calculus of kidney\n",
      "\n",
      "MODEL ANSWER: **Diagnosis:**\n",
      "Hemoperitoneum due to splenic rupture.\n",
      "==================================================\n",
      "ImageforLLMClass/Urologi/BNO/ABDOMEN DX.ABDOMEN AP(SUPINE).Se1.Img1.jpg\n",
      "ICD 9: \n",
      "88.19\tOther x-ray of abdomen\n",
      "87.44\tRoutine chest x-ray, so described\n",
      "89.52\tElectrocardiogram\n",
      "\n",
      "ICD 10: \n",
      "N40   Hyperplasia of prostate\n",
      "\n",
      "MODEL ANSWER: **Acute Pancreatitis with Gallstones and Cholecystitis**\n",
      "==================================================\n",
      "ImageforLLMClass/Neuro Surgeon/MRI/MRI-WholeSpine MR.T2WI_SAG-1.Se2.Img1.jpg\n",
      "ICD 9: \n",
      "88.93   Magnetic resonance imaging of spinal canal\n",
      "\n",
      "ICD 10: \n",
      "Z09.8   Follow-up exam after other treatment for other conditions\n",
      "M43.1   Spondylolisthesis\n",
      "\n",
      "MODEL ANSWER: Neurofibromatosis Type 1 (NF-1) with multiple neurofibromas and a plexiform neurofibroma involving the cervical spine.\n",
      "==================================================\n",
      "ImageforLLMClass/Neuro Surgeon/CT/Brain Contrast ( Fix Delay  CT.KONTRAS.Se1014.Img0.jpg\n",
      "ICD 9: \n",
      "01.39   Other incision of brain\n",
      "\n",
      "ICD 10: \n",
      "A17.0   Tuberculous meningitis (PRIMER)\n",
      "G01   Meningitis in bacterial diseases classified elsewhere\n",
      "G81.9   Hemiplegia, unspecified\n",
      "\n",
      "MODEL ANSWER: Acute Subdural Hematoma.\n",
      "==================================================\n",
      "ImageforLLMClass/Neurology/MRI/MRI-C-Spine MR.SCOUT.Se1.Img1.jpg\n",
      "ICD 9: \n",
      "88.93   Magnetic resonance imaging of spinal canal\n",
      "\n",
      "ICD 10: \n",
      "M54.12   Radiculopathy, cervical region\n",
      "\n",
      "\n",
      "MODEL ANSWER: Neurofibromatosis type 1 (NF1) with cervical spine neurofibroma.\n",
      "==================================================\n",
      "ImageforLLMClass/Neurology/CT/Brain_Routine(Adult) CT.Brain 1,00 Hr40 S3.Se2.Img1.jpg\n",
      "ICD 9: \n",
      "87.03\tComputerized axial tomography of head\n",
      "\n",
      "ICD 10: \n",
      "G20   Parkinsons disease\n",
      "MODEL ANSWER: Hypertrophied adenoids with retropharyngeal abscess.\n",
      "==================================================\n",
      "ImageforLLMClass/Pulmology/RONTGEN/Unspecified CR CHEST.Se1001.Img1001.jpg\n",
      "ICD 9: \n",
      "\n",
      "\n",
      "ICD 10: \n",
      "A16.2   Tb lung without mention of bact or histological confirm\n",
      "\n",
      "MODEL ANSWER: Pneumonia with consolidation in right middle lobe.\n",
      "==================================================\n",
      "ImageforLLMClass/Pulmology/CT/Thorax Contras (Bolus Track CT.NON KONTRAS.Se1014.Img0.jpg\n",
      "ICD 9: \n",
      "87.41\tComputerized axial tomography of thorax\n",
      "\n",
      "ICD 10: \n",
      "J90   Pleural effusion, not elsewhere classified\n",
      "\n",
      "MODEL ANSWER: Osteosarcoma.\n",
      "==================================================\n"
     ]
    }
   ],
   "source": [
    "import os\n",
    "\n",
    "def get_jpg_files_recursively(directory):\n",
    "    jpg_files = []\n",
    "    for root, dirs, files in os.walk(directory):\n",
    "        for file in files:\n",
    "            if file.lower().endswith('.jpg'):\n",
    "                jpg_files.append(os.path.join(root, file))\n",
    "    return jpg_files\n",
    "\n",
    "question = \"\"\"\n",
    "Assume you are a physician. \n",
    "What is the diagnosis of this image, just print the diagnosis.\n",
    "\"\"\"\n",
    "\n",
    "# Specify the directory to search for jpg files\n",
    "directory = 'ImageforLLMClass/'\n",
    "\n",
    "# Get the list of all jpg files recursively\n",
    "jpg_files = get_jpg_files_recursively(directory)\n",
    "\n",
    "# Print the list of jpg files\n",
    "for jpg_fil in jpg_files:\n",
    "    print(jpg_fil)\n",
    "    diag_path = '/'.join(jpg_fil.split('/')[:-1])+'/ICD 9 10.txt'\n",
    "    # Open the file and read its contents\n",
    "    with open(diag_path, 'r') as file:\n",
    "        diag_content = file.read()\n",
    "        print(diag_content)\n",
    "    # break\n",
    "\n",
    "    answer = ask_from_an_image(jpg_fil,question)\n",
    "    print(f'MODEL ANSWER: {answer}')\n",
    "    print(50*'=')"
   ]
  },
  {
   "cell_type": "code",
   "execution_count": 41,
   "id": "77bf4804-a6ee-4af7-9c2e-7eaf9d49a76a",
   "metadata": {},
   "outputs": [
    {
     "data": {
      "text/plain": [
       "'ImageforLLMClass/Pediatrics/RONTGEN/ICD 9 10.txt'"
      ]
     },
     "execution_count": 41,
     "metadata": {},
     "output_type": "execute_result"
    }
   ],
   "source": [
    "diag_path"
   ]
  },
  {
   "cell_type": "code",
   "execution_count": 37,
   "id": "6cc48ec1-73af-4f51-8125-9a0ddd20ff42",
   "metadata": {},
   "outputs": [
    {
     "data": {
      "text/plain": [
       "'ImageforLLMClass/Pediatrics/RONTGEN'"
      ]
     },
     "execution_count": 37,
     "metadata": {},
     "output_type": "execute_result"
    }
   ],
   "source": []
  },
  {
   "cell_type": "code",
   "execution_count": null,
   "id": "8fd6caa4-146b-4341-b08a-fe34121b07b1",
   "metadata": {},
   "outputs": [],
   "source": []
  }
 ],
 "metadata": {
  "kernelspec": {
   "display_name": "eda",
   "language": "python",
   "name": "eda"
  },
  "language_info": {
   "codemirror_mode": {
    "name": "ipython",
    "version": 3
   },
   "file_extension": ".py",
   "mimetype": "text/x-python",
   "name": "python",
   "nbconvert_exporter": "python",
   "pygments_lexer": "ipython3",
   "version": "3.11.8"
  }
 },
 "nbformat": 4,
 "nbformat_minor": 5
}
